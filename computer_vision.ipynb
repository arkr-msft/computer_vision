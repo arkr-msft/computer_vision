{
 "cells": [
  {
   "cell_type": "markdown",
   "metadata": {},
   "source": [
    "# Training an image classification model with PyTorch\n",
    "\n",
    "## Pytorch¶\n",
    "open-source machine learning library based on the Torch library, used for applications such as computer vision and natural language processing,\n",
    "\n",
    "## Dataset¶\n",
    "This notebook will use the KMINST dataset \n",
    "https://pytorch.org/vision/stable/datasets.html#torchvision-datasets\n",
    "\n",
    "## Steps in this notebook\n",
    "The main steps are:\n",
    "\n",
    "- install packages\n",
    "- load dataset, what's train and test loader\n",
    "- print out 1 image from KMINST dataset, with which library,\n",
    "- initiate the NN model, what's neural network, furthor reading: mlu-cv course\n",
    "- train a model with config\n",
    "- test a model\n",
    "- print a figure with train and test loss"
   ]
  },
  {
   "cell_type": "code",
   "execution_count": null,
   "metadata": {},
   "outputs": [],
   "source": [
    "import torch\n",
    "import torchvision"
   ]
  },
  {
   "cell_type": "code",
   "execution_count": null,
   "metadata": {},
   "outputs": [],
   "source": [
    "if torch.cuda.is_available():  \n",
    "    device = \"cuda:0\" \n",
    "else:  \n",
    "    device = \"cpu\" "
   ]
  },
  {
   "cell_type": "code",
   "execution_count": null,
   "metadata": {},
   "outputs": [],
   "source": [
    "import os\n",
    "results_dir='results'\n",
    "if not os.path.isdir(results_dir):\n",
    "    !mkdir -p {results_dir}"
   ]
  }
 ],
 "metadata": {
  "kernelspec": {
   "display_name": "base",
   "language": "python",
   "name": "python3"
  },
  "language_info": {
   "name": "python",
   "version": "3.10.9"
  },
  "orig_nbformat": 4
 },
 "nbformat": 4,
 "nbformat_minor": 2
}
